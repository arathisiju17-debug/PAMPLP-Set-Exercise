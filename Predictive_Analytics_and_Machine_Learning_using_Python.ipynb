{
  "cells": [
    {
      "cell_type": "code",
      "source": [
        "from google.colab import drive\n",
        "drive.mount('/content/drive')\n"
      ],
      "metadata": {
        "colab": {
          "base_uri": "https://localhost:8080/"
        },
        "id": "e2mw6acyc7sn",
        "outputId": "953dc97a-9e7d-40b5-aa76-c4ee856698bf"
      },
      "id": "e2mw6acyc7sn",
      "execution_count": 1,
      "outputs": [
        {
          "output_type": "stream",
          "name": "stdout",
          "text": [
            "Mounted at /content/drive\n"
          ]
        }
      ]
    },
    {
      "cell_type": "code",
      "execution_count": 2,
      "id": "c156b1dc",
      "metadata": {
        "_cell_guid": "b1076dfc-b9ad-4769-8c92-a6c4dae69d19",
        "_uuid": "8f2839f25d086af736a60e9eeb907d3b93b6e0e5",
        "execution": {
          "iopub.execute_input": "2025-09-17T08:50:20.138507Z",
          "iopub.status.busy": "2025-09-17T08:50:20.137586Z",
          "iopub.status.idle": "2025-09-17T08:50:24.843965Z",
          "shell.execute_reply": "2025-09-17T08:50:24.842861Z"
        },
        "papermill": {
          "duration": 4.715876,
          "end_time": "2025-09-17T08:50:24.845877",
          "exception": false,
          "start_time": "2025-09-17T08:50:20.130001",
          "status": "completed"
        },
        "tags": [],
        "id": "c156b1dc"
      },
      "outputs": [],
      "source": [
        "import pandas as pd\n",
        "from sklearn.preprocessing import LabelEncoder\n",
        "from sklearn.tree import DecisionTreeClassifier, plot_tree\n",
        "import matplotlib.pyplot as plt"
      ]
    },
    {
      "cell_type": "code",
      "execution_count": 3,
      "id": "6958423a",
      "metadata": {
        "execution": {
          "iopub.execute_input": "2025-09-17T08:50:24.858322Z",
          "iopub.status.busy": "2025-09-17T08:50:24.857743Z",
          "iopub.status.idle": "2025-09-17T08:50:24.868335Z",
          "shell.execute_reply": "2025-09-17T08:50:24.867362Z"
        },
        "papermill": {
          "duration": 0.01858,
          "end_time": "2025-09-17T08:50:24.870100",
          "exception": false,
          "start_time": "2025-09-17T08:50:24.851520",
          "status": "completed"
        },
        "tags": [],
        "id": "6958423a"
      },
      "outputs": [],
      "source": [
        "# 1.1 Create DataFrame\n",
        "data = pd.DataFrame({\n",
        "    'Age': [36,42,23,52,43,44,66,35,52,35,24,18,45],\n",
        "    'Experience': [10,12,4,4,21,14,3,14,13,5,3,3,9],\n",
        "    'Rank': [9,4,6,4,8,5,7,9,7,9,5,7,9],\n",
        "    'Nationality': ['UK','USA','N','USA','USA','UK','N','UK','N','N','USA','UK','UK'],\n",
        "    'Go': ['NO','NO','NO','NO','YES','NO','YES','YES','YES','YES','NO','YES','YES']\n",
        "})"
      ]
    },
    {
      "cell_type": "code",
      "execution_count": 4,
      "id": "f8616878",
      "metadata": {
        "execution": {
          "iopub.execute_input": "2025-09-17T08:50:24.881915Z",
          "iopub.status.busy": "2025-09-17T08:50:24.881463Z",
          "iopub.status.idle": "2025-09-17T08:50:24.894644Z",
          "shell.execute_reply": "2025-09-17T08:50:24.893623Z"
        },
        "papermill": {
          "duration": 0.021096,
          "end_time": "2025-09-17T08:50:24.896470",
          "exception": false,
          "start_time": "2025-09-17T08:50:24.875374",
          "status": "completed"
        },
        "tags": [],
        "id": "f8616878"
      },
      "outputs": [],
      "source": [
        "#1.2. Label Encoding\n",
        "le = LabelEncoder()\n",
        "data['Nationality'] = le.fit_transform(data['Nationality'])  # N=0, UK=1, USA=2\n",
        "data['Go'] = le.fit_transform(data['Go'])  # NO=0, YES=1"
      ]
    },
    {
      "cell_type": "code",
      "execution_count": 5,
      "id": "7157a4f0",
      "metadata": {
        "execution": {
          "iopub.execute_input": "2025-09-17T08:50:24.907833Z",
          "iopub.status.busy": "2025-09-17T08:50:24.907439Z",
          "iopub.status.idle": "2025-09-17T08:50:24.920884Z",
          "shell.execute_reply": "2025-09-17T08:50:24.919862Z"
        },
        "papermill": {
          "duration": 0.020955,
          "end_time": "2025-09-17T08:50:24.922507",
          "exception": false,
          "start_time": "2025-09-17T08:50:24.901552",
          "status": "completed"
        },
        "tags": [],
        "id": "7157a4f0"
      },
      "outputs": [],
      "source": [
        "#1.3 Features and target\n",
        "X = data.drop('Go', axis=1)\n",
        "y = data['Go']\n"
      ]
    },
    {
      "cell_type": "code",
      "execution_count": 6,
      "id": "f2941e6e",
      "metadata": {
        "execution": {
          "iopub.execute_input": "2025-09-17T08:50:24.933898Z",
          "iopub.status.busy": "2025-09-17T08:50:24.933491Z",
          "iopub.status.idle": "2025-09-17T08:50:24.950820Z",
          "shell.execute_reply": "2025-09-17T08:50:24.949599Z"
        },
        "papermill": {
          "duration": 0.024888,
          "end_time": "2025-09-17T08:50:24.952477",
          "exception": false,
          "start_time": "2025-09-17T08:50:24.927589",
          "status": "completed"
        },
        "tags": [],
        "id": "f2941e6e",
        "outputId": "ea6ee19e-4feb-4df9-fa26-3538734af466",
        "colab": {
          "base_uri": "https://localhost:8080/",
          "height": 80
        }
      },
      "outputs": [
        {
          "output_type": "execute_result",
          "data": {
            "text/plain": [
              "DecisionTreeClassifier(criterion='entropy', random_state=0)"
            ],
            "text/html": [
              "<style>#sk-container-id-1 {\n",
              "  /* Definition of color scheme common for light and dark mode */\n",
              "  --sklearn-color-text: #000;\n",
              "  --sklearn-color-text-muted: #666;\n",
              "  --sklearn-color-line: gray;\n",
              "  /* Definition of color scheme for unfitted estimators */\n",
              "  --sklearn-color-unfitted-level-0: #fff5e6;\n",
              "  --sklearn-color-unfitted-level-1: #f6e4d2;\n",
              "  --sklearn-color-unfitted-level-2: #ffe0b3;\n",
              "  --sklearn-color-unfitted-level-3: chocolate;\n",
              "  /* Definition of color scheme for fitted estimators */\n",
              "  --sklearn-color-fitted-level-0: #f0f8ff;\n",
              "  --sklearn-color-fitted-level-1: #d4ebff;\n",
              "  --sklearn-color-fitted-level-2: #b3dbfd;\n",
              "  --sklearn-color-fitted-level-3: cornflowerblue;\n",
              "\n",
              "  /* Specific color for light theme */\n",
              "  --sklearn-color-text-on-default-background: var(--sg-text-color, var(--theme-code-foreground, var(--jp-content-font-color1, black)));\n",
              "  --sklearn-color-background: var(--sg-background-color, var(--theme-background, var(--jp-layout-color0, white)));\n",
              "  --sklearn-color-border-box: var(--sg-text-color, var(--theme-code-foreground, var(--jp-content-font-color1, black)));\n",
              "  --sklearn-color-icon: #696969;\n",
              "\n",
              "  @media (prefers-color-scheme: dark) {\n",
              "    /* Redefinition of color scheme for dark theme */\n",
              "    --sklearn-color-text-on-default-background: var(--sg-text-color, var(--theme-code-foreground, var(--jp-content-font-color1, white)));\n",
              "    --sklearn-color-background: var(--sg-background-color, var(--theme-background, var(--jp-layout-color0, #111)));\n",
              "    --sklearn-color-border-box: var(--sg-text-color, var(--theme-code-foreground, var(--jp-content-font-color1, white)));\n",
              "    --sklearn-color-icon: #878787;\n",
              "  }\n",
              "}\n",
              "\n",
              "#sk-container-id-1 {\n",
              "  color: var(--sklearn-color-text);\n",
              "}\n",
              "\n",
              "#sk-container-id-1 pre {\n",
              "  padding: 0;\n",
              "}\n",
              "\n",
              "#sk-container-id-1 input.sk-hidden--visually {\n",
              "  border: 0;\n",
              "  clip: rect(1px 1px 1px 1px);\n",
              "  clip: rect(1px, 1px, 1px, 1px);\n",
              "  height: 1px;\n",
              "  margin: -1px;\n",
              "  overflow: hidden;\n",
              "  padding: 0;\n",
              "  position: absolute;\n",
              "  width: 1px;\n",
              "}\n",
              "\n",
              "#sk-container-id-1 div.sk-dashed-wrapped {\n",
              "  border: 1px dashed var(--sklearn-color-line);\n",
              "  margin: 0 0.4em 0.5em 0.4em;\n",
              "  box-sizing: border-box;\n",
              "  padding-bottom: 0.4em;\n",
              "  background-color: var(--sklearn-color-background);\n",
              "}\n",
              "\n",
              "#sk-container-id-1 div.sk-container {\n",
              "  /* jupyter's `normalize.less` sets `[hidden] { display: none; }`\n",
              "     but bootstrap.min.css set `[hidden] { display: none !important; }`\n",
              "     so we also need the `!important` here to be able to override the\n",
              "     default hidden behavior on the sphinx rendered scikit-learn.org.\n",
              "     See: https://github.com/scikit-learn/scikit-learn/issues/21755 */\n",
              "  display: inline-block !important;\n",
              "  position: relative;\n",
              "}\n",
              "\n",
              "#sk-container-id-1 div.sk-text-repr-fallback {\n",
              "  display: none;\n",
              "}\n",
              "\n",
              "div.sk-parallel-item,\n",
              "div.sk-serial,\n",
              "div.sk-item {\n",
              "  /* draw centered vertical line to link estimators */\n",
              "  background-image: linear-gradient(var(--sklearn-color-text-on-default-background), var(--sklearn-color-text-on-default-background));\n",
              "  background-size: 2px 100%;\n",
              "  background-repeat: no-repeat;\n",
              "  background-position: center center;\n",
              "}\n",
              "\n",
              "/* Parallel-specific style estimator block */\n",
              "\n",
              "#sk-container-id-1 div.sk-parallel-item::after {\n",
              "  content: \"\";\n",
              "  width: 100%;\n",
              "  border-bottom: 2px solid var(--sklearn-color-text-on-default-background);\n",
              "  flex-grow: 1;\n",
              "}\n",
              "\n",
              "#sk-container-id-1 div.sk-parallel {\n",
              "  display: flex;\n",
              "  align-items: stretch;\n",
              "  justify-content: center;\n",
              "  background-color: var(--sklearn-color-background);\n",
              "  position: relative;\n",
              "}\n",
              "\n",
              "#sk-container-id-1 div.sk-parallel-item {\n",
              "  display: flex;\n",
              "  flex-direction: column;\n",
              "}\n",
              "\n",
              "#sk-container-id-1 div.sk-parallel-item:first-child::after {\n",
              "  align-self: flex-end;\n",
              "  width: 50%;\n",
              "}\n",
              "\n",
              "#sk-container-id-1 div.sk-parallel-item:last-child::after {\n",
              "  align-self: flex-start;\n",
              "  width: 50%;\n",
              "}\n",
              "\n",
              "#sk-container-id-1 div.sk-parallel-item:only-child::after {\n",
              "  width: 0;\n",
              "}\n",
              "\n",
              "/* Serial-specific style estimator block */\n",
              "\n",
              "#sk-container-id-1 div.sk-serial {\n",
              "  display: flex;\n",
              "  flex-direction: column;\n",
              "  align-items: center;\n",
              "  background-color: var(--sklearn-color-background);\n",
              "  padding-right: 1em;\n",
              "  padding-left: 1em;\n",
              "}\n",
              "\n",
              "\n",
              "/* Toggleable style: style used for estimator/Pipeline/ColumnTransformer box that is\n",
              "clickable and can be expanded/collapsed.\n",
              "- Pipeline and ColumnTransformer use this feature and define the default style\n",
              "- Estimators will overwrite some part of the style using the `sk-estimator` class\n",
              "*/\n",
              "\n",
              "/* Pipeline and ColumnTransformer style (default) */\n",
              "\n",
              "#sk-container-id-1 div.sk-toggleable {\n",
              "  /* Default theme specific background. It is overwritten whether we have a\n",
              "  specific estimator or a Pipeline/ColumnTransformer */\n",
              "  background-color: var(--sklearn-color-background);\n",
              "}\n",
              "\n",
              "/* Toggleable label */\n",
              "#sk-container-id-1 label.sk-toggleable__label {\n",
              "  cursor: pointer;\n",
              "  display: flex;\n",
              "  width: 100%;\n",
              "  margin-bottom: 0;\n",
              "  padding: 0.5em;\n",
              "  box-sizing: border-box;\n",
              "  text-align: center;\n",
              "  align-items: start;\n",
              "  justify-content: space-between;\n",
              "  gap: 0.5em;\n",
              "}\n",
              "\n",
              "#sk-container-id-1 label.sk-toggleable__label .caption {\n",
              "  font-size: 0.6rem;\n",
              "  font-weight: lighter;\n",
              "  color: var(--sklearn-color-text-muted);\n",
              "}\n",
              "\n",
              "#sk-container-id-1 label.sk-toggleable__label-arrow:before {\n",
              "  /* Arrow on the left of the label */\n",
              "  content: \"▸\";\n",
              "  float: left;\n",
              "  margin-right: 0.25em;\n",
              "  color: var(--sklearn-color-icon);\n",
              "}\n",
              "\n",
              "#sk-container-id-1 label.sk-toggleable__label-arrow:hover:before {\n",
              "  color: var(--sklearn-color-text);\n",
              "}\n",
              "\n",
              "/* Toggleable content - dropdown */\n",
              "\n",
              "#sk-container-id-1 div.sk-toggleable__content {\n",
              "  max-height: 0;\n",
              "  max-width: 0;\n",
              "  overflow: hidden;\n",
              "  text-align: left;\n",
              "  /* unfitted */\n",
              "  background-color: var(--sklearn-color-unfitted-level-0);\n",
              "}\n",
              "\n",
              "#sk-container-id-1 div.sk-toggleable__content.fitted {\n",
              "  /* fitted */\n",
              "  background-color: var(--sklearn-color-fitted-level-0);\n",
              "}\n",
              "\n",
              "#sk-container-id-1 div.sk-toggleable__content pre {\n",
              "  margin: 0.2em;\n",
              "  border-radius: 0.25em;\n",
              "  color: var(--sklearn-color-text);\n",
              "  /* unfitted */\n",
              "  background-color: var(--sklearn-color-unfitted-level-0);\n",
              "}\n",
              "\n",
              "#sk-container-id-1 div.sk-toggleable__content.fitted pre {\n",
              "  /* unfitted */\n",
              "  background-color: var(--sklearn-color-fitted-level-0);\n",
              "}\n",
              "\n",
              "#sk-container-id-1 input.sk-toggleable__control:checked~div.sk-toggleable__content {\n",
              "  /* Expand drop-down */\n",
              "  max-height: 200px;\n",
              "  max-width: 100%;\n",
              "  overflow: auto;\n",
              "}\n",
              "\n",
              "#sk-container-id-1 input.sk-toggleable__control:checked~label.sk-toggleable__label-arrow:before {\n",
              "  content: \"▾\";\n",
              "}\n",
              "\n",
              "/* Pipeline/ColumnTransformer-specific style */\n",
              "\n",
              "#sk-container-id-1 div.sk-label input.sk-toggleable__control:checked~label.sk-toggleable__label {\n",
              "  color: var(--sklearn-color-text);\n",
              "  background-color: var(--sklearn-color-unfitted-level-2);\n",
              "}\n",
              "\n",
              "#sk-container-id-1 div.sk-label.fitted input.sk-toggleable__control:checked~label.sk-toggleable__label {\n",
              "  background-color: var(--sklearn-color-fitted-level-2);\n",
              "}\n",
              "\n",
              "/* Estimator-specific style */\n",
              "\n",
              "/* Colorize estimator box */\n",
              "#sk-container-id-1 div.sk-estimator input.sk-toggleable__control:checked~label.sk-toggleable__label {\n",
              "  /* unfitted */\n",
              "  background-color: var(--sklearn-color-unfitted-level-2);\n",
              "}\n",
              "\n",
              "#sk-container-id-1 div.sk-estimator.fitted input.sk-toggleable__control:checked~label.sk-toggleable__label {\n",
              "  /* fitted */\n",
              "  background-color: var(--sklearn-color-fitted-level-2);\n",
              "}\n",
              "\n",
              "#sk-container-id-1 div.sk-label label.sk-toggleable__label,\n",
              "#sk-container-id-1 div.sk-label label {\n",
              "  /* The background is the default theme color */\n",
              "  color: var(--sklearn-color-text-on-default-background);\n",
              "}\n",
              "\n",
              "/* On hover, darken the color of the background */\n",
              "#sk-container-id-1 div.sk-label:hover label.sk-toggleable__label {\n",
              "  color: var(--sklearn-color-text);\n",
              "  background-color: var(--sklearn-color-unfitted-level-2);\n",
              "}\n",
              "\n",
              "/* Label box, darken color on hover, fitted */\n",
              "#sk-container-id-1 div.sk-label.fitted:hover label.sk-toggleable__label.fitted {\n",
              "  color: var(--sklearn-color-text);\n",
              "  background-color: var(--sklearn-color-fitted-level-2);\n",
              "}\n",
              "\n",
              "/* Estimator label */\n",
              "\n",
              "#sk-container-id-1 div.sk-label label {\n",
              "  font-family: monospace;\n",
              "  font-weight: bold;\n",
              "  display: inline-block;\n",
              "  line-height: 1.2em;\n",
              "}\n",
              "\n",
              "#sk-container-id-1 div.sk-label-container {\n",
              "  text-align: center;\n",
              "}\n",
              "\n",
              "/* Estimator-specific */\n",
              "#sk-container-id-1 div.sk-estimator {\n",
              "  font-family: monospace;\n",
              "  border: 1px dotted var(--sklearn-color-border-box);\n",
              "  border-radius: 0.25em;\n",
              "  box-sizing: border-box;\n",
              "  margin-bottom: 0.5em;\n",
              "  /* unfitted */\n",
              "  background-color: var(--sklearn-color-unfitted-level-0);\n",
              "}\n",
              "\n",
              "#sk-container-id-1 div.sk-estimator.fitted {\n",
              "  /* fitted */\n",
              "  background-color: var(--sklearn-color-fitted-level-0);\n",
              "}\n",
              "\n",
              "/* on hover */\n",
              "#sk-container-id-1 div.sk-estimator:hover {\n",
              "  /* unfitted */\n",
              "  background-color: var(--sklearn-color-unfitted-level-2);\n",
              "}\n",
              "\n",
              "#sk-container-id-1 div.sk-estimator.fitted:hover {\n",
              "  /* fitted */\n",
              "  background-color: var(--sklearn-color-fitted-level-2);\n",
              "}\n",
              "\n",
              "/* Specification for estimator info (e.g. \"i\" and \"?\") */\n",
              "\n",
              "/* Common style for \"i\" and \"?\" */\n",
              "\n",
              ".sk-estimator-doc-link,\n",
              "a:link.sk-estimator-doc-link,\n",
              "a:visited.sk-estimator-doc-link {\n",
              "  float: right;\n",
              "  font-size: smaller;\n",
              "  line-height: 1em;\n",
              "  font-family: monospace;\n",
              "  background-color: var(--sklearn-color-background);\n",
              "  border-radius: 1em;\n",
              "  height: 1em;\n",
              "  width: 1em;\n",
              "  text-decoration: none !important;\n",
              "  margin-left: 0.5em;\n",
              "  text-align: center;\n",
              "  /* unfitted */\n",
              "  border: var(--sklearn-color-unfitted-level-1) 1pt solid;\n",
              "  color: var(--sklearn-color-unfitted-level-1);\n",
              "}\n",
              "\n",
              ".sk-estimator-doc-link.fitted,\n",
              "a:link.sk-estimator-doc-link.fitted,\n",
              "a:visited.sk-estimator-doc-link.fitted {\n",
              "  /* fitted */\n",
              "  border: var(--sklearn-color-fitted-level-1) 1pt solid;\n",
              "  color: var(--sklearn-color-fitted-level-1);\n",
              "}\n",
              "\n",
              "/* On hover */\n",
              "div.sk-estimator:hover .sk-estimator-doc-link:hover,\n",
              ".sk-estimator-doc-link:hover,\n",
              "div.sk-label-container:hover .sk-estimator-doc-link:hover,\n",
              ".sk-estimator-doc-link:hover {\n",
              "  /* unfitted */\n",
              "  background-color: var(--sklearn-color-unfitted-level-3);\n",
              "  color: var(--sklearn-color-background);\n",
              "  text-decoration: none;\n",
              "}\n",
              "\n",
              "div.sk-estimator.fitted:hover .sk-estimator-doc-link.fitted:hover,\n",
              ".sk-estimator-doc-link.fitted:hover,\n",
              "div.sk-label-container:hover .sk-estimator-doc-link.fitted:hover,\n",
              ".sk-estimator-doc-link.fitted:hover {\n",
              "  /* fitted */\n",
              "  background-color: var(--sklearn-color-fitted-level-3);\n",
              "  color: var(--sklearn-color-background);\n",
              "  text-decoration: none;\n",
              "}\n",
              "\n",
              "/* Span, style for the box shown on hovering the info icon */\n",
              ".sk-estimator-doc-link span {\n",
              "  display: none;\n",
              "  z-index: 9999;\n",
              "  position: relative;\n",
              "  font-weight: normal;\n",
              "  right: .2ex;\n",
              "  padding: .5ex;\n",
              "  margin: .5ex;\n",
              "  width: min-content;\n",
              "  min-width: 20ex;\n",
              "  max-width: 50ex;\n",
              "  color: var(--sklearn-color-text);\n",
              "  box-shadow: 2pt 2pt 4pt #999;\n",
              "  /* unfitted */\n",
              "  background: var(--sklearn-color-unfitted-level-0);\n",
              "  border: .5pt solid var(--sklearn-color-unfitted-level-3);\n",
              "}\n",
              "\n",
              ".sk-estimator-doc-link.fitted span {\n",
              "  /* fitted */\n",
              "  background: var(--sklearn-color-fitted-level-0);\n",
              "  border: var(--sklearn-color-fitted-level-3);\n",
              "}\n",
              "\n",
              ".sk-estimator-doc-link:hover span {\n",
              "  display: block;\n",
              "}\n",
              "\n",
              "/* \"?\"-specific style due to the `<a>` HTML tag */\n",
              "\n",
              "#sk-container-id-1 a.estimator_doc_link {\n",
              "  float: right;\n",
              "  font-size: 1rem;\n",
              "  line-height: 1em;\n",
              "  font-family: monospace;\n",
              "  background-color: var(--sklearn-color-background);\n",
              "  border-radius: 1rem;\n",
              "  height: 1rem;\n",
              "  width: 1rem;\n",
              "  text-decoration: none;\n",
              "  /* unfitted */\n",
              "  color: var(--sklearn-color-unfitted-level-1);\n",
              "  border: var(--sklearn-color-unfitted-level-1) 1pt solid;\n",
              "}\n",
              "\n",
              "#sk-container-id-1 a.estimator_doc_link.fitted {\n",
              "  /* fitted */\n",
              "  border: var(--sklearn-color-fitted-level-1) 1pt solid;\n",
              "  color: var(--sklearn-color-fitted-level-1);\n",
              "}\n",
              "\n",
              "/* On hover */\n",
              "#sk-container-id-1 a.estimator_doc_link:hover {\n",
              "  /* unfitted */\n",
              "  background-color: var(--sklearn-color-unfitted-level-3);\n",
              "  color: var(--sklearn-color-background);\n",
              "  text-decoration: none;\n",
              "}\n",
              "\n",
              "#sk-container-id-1 a.estimator_doc_link.fitted:hover {\n",
              "  /* fitted */\n",
              "  background-color: var(--sklearn-color-fitted-level-3);\n",
              "}\n",
              "</style><div id=\"sk-container-id-1\" class=\"sk-top-container\"><div class=\"sk-text-repr-fallback\"><pre>DecisionTreeClassifier(criterion=&#x27;entropy&#x27;, random_state=0)</pre><b>In a Jupyter environment, please rerun this cell to show the HTML representation or trust the notebook. <br />On GitHub, the HTML representation is unable to render, please try loading this page with nbviewer.org.</b></div><div class=\"sk-container\" hidden><div class=\"sk-item\"><div class=\"sk-estimator fitted sk-toggleable\"><input class=\"sk-toggleable__control sk-hidden--visually\" id=\"sk-estimator-id-1\" type=\"checkbox\" checked><label for=\"sk-estimator-id-1\" class=\"sk-toggleable__label fitted sk-toggleable__label-arrow\"><div><div>DecisionTreeClassifier</div></div><div><a class=\"sk-estimator-doc-link fitted\" rel=\"noreferrer\" target=\"_blank\" href=\"https://scikit-learn.org/1.6/modules/generated/sklearn.tree.DecisionTreeClassifier.html\">?<span>Documentation for DecisionTreeClassifier</span></a><span class=\"sk-estimator-doc-link fitted\">i<span>Fitted</span></span></div></label><div class=\"sk-toggleable__content fitted\"><pre>DecisionTreeClassifier(criterion=&#x27;entropy&#x27;, random_state=0)</pre></div> </div></div></div></div>"
            ]
          },
          "metadata": {},
          "execution_count": 6
        }
      ],
      "source": [
        "#1.4 Train decision tree\n",
        "clf = DecisionTreeClassifier(criterion='entropy', random_state=0)\n",
        "clf.fit(X, y)"
      ]
    },
    {
      "cell_type": "code",
      "execution_count": 7,
      "id": "c94d6cd5",
      "metadata": {
        "execution": {
          "iopub.execute_input": "2025-09-17T08:50:24.964599Z",
          "iopub.status.busy": "2025-09-17T08:50:24.964281Z",
          "iopub.status.idle": "2025-09-17T08:50:24.973662Z",
          "shell.execute_reply": "2025-09-17T08:50:24.972443Z"
        },
        "papermill": {
          "duration": 0.017357,
          "end_time": "2025-09-17T08:50:24.975407",
          "exception": false,
          "start_time": "2025-09-17T08:50:24.958050",
          "status": "completed"
        },
        "tags": [],
        "id": "c94d6cd5",
        "outputId": "4763be23-c8d4-488b-ddd9-03ac2bb61c93",
        "colab": {
          "base_uri": "https://localhost:8080/"
        }
      },
      "outputs": [
        {
          "output_type": "stream",
          "name": "stdout",
          "text": [
            "Feature Importances:\n",
            " Rank           0.664063\n",
            "Experience     0.335937\n",
            "Age            0.000000\n",
            "Nationality    0.000000\n",
            "dtype: float64\n"
          ]
        }
      ],
      "source": [
        "#1.5 Feature importances\n",
        "importances = pd.Series(clf.feature_importances_, index=X.columns).sort_values(ascending=False)\n",
        "print(\"Feature Importances:\\n\", importances)"
      ]
    },
    {
      "cell_type": "code",
      "execution_count": 8,
      "id": "41579da3",
      "metadata": {
        "execution": {
          "iopub.execute_input": "2025-09-17T08:50:24.988524Z",
          "iopub.status.busy": "2025-09-17T08:50:24.987891Z",
          "iopub.status.idle": "2025-09-17T08:50:25.556868Z",
          "shell.execute_reply": "2025-09-17T08:50:25.555459Z"
        },
        "papermill": {
          "duration": 0.577733,
          "end_time": "2025-09-17T08:50:25.558561",
          "exception": false,
          "start_time": "2025-09-17T08:50:24.980828",
          "status": "completed"
        },
        "tags": [],
        "id": "41579da3",
        "outputId": "26bb6ea4-c7ce-4317-bdd1-b47c34d97399",
        "colab": {
          "base_uri": "https://localhost:8080/",
          "height": 499
        }
      },
      "outputs": [
        {
          "output_type": "display_data",
          "data": {
            "text/plain": [
              "<Figure size 1200x600 with 1 Axes>"
            ],
            "image/png": "[encoded data removed]"
          },
          "metadata": {}
        }
      ],
      "source": [
        "#1.6 Visualize the tree\n",
        "plt.figure(figsize=(12, 6))\n",
        "plot_tree(clf, feature_names=X.columns, class_names=['NO', 'YES'], filled=True)\n",
        "plt.show()\n"
      ]
    },
    {
      "cell_type": "code",
      "execution_count": 9,
      "id": "4b7322ac",
      "metadata": {
        "execution": {
          "iopub.execute_input": "2025-09-17T08:50:25.575262Z",
          "iopub.status.busy": "2025-09-17T08:50:25.574943Z",
          "iopub.status.idle": "2025-09-17T08:50:25.579810Z",
          "shell.execute_reply": "2025-09-17T08:50:25.578958Z"
        },
        "papermill": {
          "duration": 0.014576,
          "end_time": "2025-09-17T08:50:25.581380",
          "exception": false,
          "start_time": "2025-09-17T08:50:25.566804",
          "status": "completed"
        },
        "tags": [],
        "id": "4b7322ac"
      },
      "outputs": [],
      "source": [
        "#2.1 Importing Necessary libraries\n",
        "import pandas as pd\n",
        "import matplotlib.pyplot as plt\n",
        "from sklearn.model_selection import train_test_split\n",
        "from sklearn.linear_model import LogisticRegression\n",
        "from sklearn.metrics import roc_curve, auc\n",
        "from sklearn.preprocessing import LabelEncoder"
      ]
    },
    {
      "cell_type": "code",
      "execution_count": 11,
      "id": "eda2f543",
      "metadata": {
        "execution": {
          "iopub.execute_input": "2025-09-17T08:50:25.596279Z",
          "iopub.status.busy": "2025-09-17T08:50:25.595978Z",
          "iopub.status.idle": "2025-09-17T08:50:25.622357Z",
          "shell.execute_reply": "2025-09-17T08:50:25.621359Z"
        },
        "papermill": {
          "duration": 0.036137,
          "end_time": "2025-09-17T08:50:25.624411",
          "exception": false,
          "start_time": "2025-09-17T08:50:25.588274",
          "status": "completed"
        },
        "tags": [],
        "id": "eda2f543"
      },
      "outputs": [],
      "source": [
        "#2.2 Load dataset\n",
        "df = pd.read_csv(\"/content/drive/MyDrive/Colab Notebooks/PAMPL/data.csv\")"
      ]
    },
    {
      "cell_type": "code",
      "execution_count": 12,
      "id": "887b2942",
      "metadata": {
        "execution": {
          "iopub.execute_input": "2025-09-17T08:50:25.639960Z",
          "iopub.status.busy": "2025-09-17T08:50:25.639455Z",
          "iopub.status.idle": "2025-09-17T08:50:25.646743Z",
          "shell.execute_reply": "2025-09-17T08:50:25.645958Z"
        },
        "papermill": {
          "duration": 0.016469,
          "end_time": "2025-09-17T08:50:25.648288",
          "exception": false,
          "start_time": "2025-09-17T08:50:25.631819",
          "status": "completed"
        },
        "tags": [],
        "id": "887b2942"
      },
      "outputs": [],
      "source": [
        "#2.3 Drop non-informative columns\n",
        "df = df.drop(columns=[\"id\", \"Unnamed: 32\"], errors='ignore')"
      ]
    },
    {
      "cell_type": "code",
      "execution_count": 13,
      "id": "fc227cf0",
      "metadata": {
        "execution": {
          "iopub.execute_input": "2025-09-17T08:50:25.663146Z",
          "iopub.status.busy": "2025-09-17T08:50:25.662834Z",
          "iopub.status.idle": "2025-09-17T08:50:25.668174Z",
          "shell.execute_reply": "2025-09-17T08:50:25.667205Z"
        },
        "papermill": {
          "duration": 0.014758,
          "end_time": "2025-09-17T08:50:25.669920",
          "exception": false,
          "start_time": "2025-09-17T08:50:25.655162",
          "status": "completed"
        },
        "tags": [],
        "id": "fc227cf0"
      },
      "outputs": [],
      "source": [
        "#2.4 Encode target variable (diagnosis)\n",
        "# M → 1 (Malignant), B → 0 (Benign)\n",
        "label_encoder = LabelEncoder()\n",
        "df[\"diagnosis\"] = label_encoder.fit_transform(df[\"diagnosis\"])"
      ]
    },
    {
      "cell_type": "code",
      "execution_count": 14,
      "id": "209cc77b",
      "metadata": {
        "execution": {
          "iopub.execute_input": "2025-09-17T08:50:25.685354Z",
          "iopub.status.busy": "2025-09-17T08:50:25.685029Z",
          "iopub.status.idle": "2025-09-17T08:50:25.691280Z",
          "shell.execute_reply": "2025-09-17T08:50:25.690281Z"
        },
        "papermill": {
          "duration": 0.016251,
          "end_time": "2025-09-17T08:50:25.693128",
          "exception": false,
          "start_time": "2025-09-17T08:50:25.676877",
          "status": "completed"
        },
        "tags": [],
        "id": "209cc77b"
      },
      "outputs": [],
      "source": [
        "#2.5 Define features and target\n",
        "X = df.drop(\"diagnosis\", axis=1)\n",
        "y = df[\"diagnosis\"]"
      ]
    },
    {
      "cell_type": "code",
      "execution_count": 15,
      "id": "f8f2bfdb",
      "metadata": {
        "execution": {
          "iopub.execute_input": "2025-09-17T08:50:25.709176Z",
          "iopub.status.busy": "2025-09-17T08:50:25.707641Z",
          "iopub.status.idle": "2025-09-17T08:50:25.715997Z",
          "shell.execute_reply": "2025-09-17T08:50:25.715033Z"
        },
        "papermill": {
          "duration": 0.018111,
          "end_time": "2025-09-17T08:50:25.718007",
          "exception": false,
          "start_time": "2025-09-17T08:50:25.699896",
          "status": "completed"
        },
        "tags": [],
        "id": "f8f2bfdb"
      },
      "outputs": [],
      "source": [
        "#2.6 Split into training and testing sets\n",
        "X_train, X_test, y_train, y_test = train_test_split(X, y, test_size=0.3, random_state=42)"
      ]
    },
    {
      "cell_type": "code",
      "execution_count": 16,
      "id": "3dcdf5fd",
      "metadata": {
        "execution": {
          "iopub.execute_input": "2025-09-17T08:50:25.732492Z",
          "iopub.status.busy": "2025-09-17T08:50:25.732191Z",
          "iopub.status.idle": "2025-09-17T08:50:37.250506Z",
          "shell.execute_reply": "2025-09-17T08:50:37.249827Z"
        },
        "papermill": {
          "duration": 11.530687,
          "end_time": "2025-09-17T08:50:37.255413",
          "exception": false,
          "start_time": "2025-09-17T08:50:25.724726",
          "status": "completed"
        },
        "tags": [],
        "id": "3dcdf5fd",
        "outputId": "a32dc425-7ddc-4bf4-fc17-6d12fbc38114",
        "colab": {
          "base_uri": "https://localhost:8080/",
          "height": 80
        }
      },
      "outputs": [
        {
          "output_type": "execute_result",
          "data": {
            "text/plain": [
              "LogisticRegression(max_iter=5000)"
            ],
            "text/html": [
              "<style>#sk-container-id-2 {\n",
              "  /* Definition of color scheme common for light and dark mode */\n",
              "  --sklearn-color-text: #000;\n",
              "  --sklearn-color-text-muted: #666;\n",
              "  --sklearn-color-line: gray;\n",
              "  /* Definition of color scheme for unfitted estimators */\n",
              "  --sklearn-color-unfitted-level-0: #fff5e6;\n",
              "  --sklearn-color-unfitted-level-1: #f6e4d2;\n",
              "  --sklearn-color-unfitted-level-2: #ffe0b3;\n",
              "  --sklearn-color-unfitted-level-3: chocolate;\n",
              "  /* Definition of color scheme for fitted estimators */\n",
              "  --sklearn-color-fitted-level-0: #f0f8ff;\n",
              "  --sklearn-color-fitted-level-1: #d4ebff;\n",
              "  --sklearn-color-fitted-level-2: #b3dbfd;\n",
              "  --sklearn-color-fitted-level-3: cornflowerblue;\n",
              "\n",
              "  /* Specific color for light theme */\n",
              "  --sklearn-color-text-on-default-background: var(--sg-text-color, var(--theme-code-foreground, var(--jp-content-font-color1, black)));\n",
              "  --sklearn-color-background: var(--sg-background-color, var(--theme-background, var(--jp-layout-color0, white)));\n",
              "  --sklearn-color-border-box: var(--sg-text-color, var(--theme-code-foreground, var(--jp-content-font-color1, black)));\n",
              "  --sklearn-color-icon: #696969;\n",
              "\n",
              "  @media (prefers-color-scheme: dark) {\n",
              "    /* Redefinition of color scheme for dark theme */\n",
              "    --sklearn-color-text-on-default-background: var(--sg-text-color, var(--theme-code-foreground, var(--jp-content-font-color1, white)));\n",
              "    --sklearn-color-background: var(--sg-background-color, var(--theme-background, var(--jp-layout-color0, #111)));\n",
              "    --sklearn-color-border-box: var(--sg-text-color, var(--theme-code-foreground, var(--jp-content-font-color1, white)));\n",
              "    --sklearn-color-icon: #878787;\n",
              "  }\n",
              "}\n",
              "\n",
              "#sk-container-id-2 {\n",
              "  color: var(--sklearn-color-text);\n",
              "}\n",
              "\n",
              "#sk-container-id-2 pre {\n",
              "  padding: 0;\n",
              "}\n",
              "\n",
              "#sk-container-id-2 input.sk-hidden--visually {\n",
              "  border: 0;\n",
              "  clip: rect(1px 1px 1px 1px);\n",
              "  clip: rect(1px, 1px, 1px, 1px);\n",
              "  height: 1px;\n",
              "  margin: -1px;\n",
              "  overflow: hidden;\n",
              "  padding: 0;\n",
              "  position: absolute;\n",
              "  width: 1px;\n",
              "}\n",
              "\n",
              "#sk-container-id-2 div.sk-dashed-wrapped {\n",
              "  border: 1px dashed var(--sklearn-color-line);\n",
              "  margin: 0 0.4em 0.5em 0.4em;\n",
              "  box-sizing: border-box;\n",
              "  padding-bottom: 0.4em;\n",
              "  background-color: var(--sklearn-color-background);\n",
              "}\n",
              "\n",
              "#sk-container-id-2 div.sk-container {\n",
              "  /* jupyter's `normalize.less` sets `[hidden] { display: none; }`\n",
              "     but bootstrap.min.css set `[hidden] { display: none !important; }`\n",
              "     so we also need the `!important` here to be able to override the\n",
              "     default hidden behavior on the sphinx rendered scikit-learn.org.\n",
              "     See: https://github.com/scikit-learn/scikit-learn/issues/21755 */\n",
              "  display: inline-block !important;\n",
              "  position: relative;\n",
              "}\n",
              "\n",
              "#sk-container-id-2 div.sk-text-repr-fallback {\n",
              "  display: none;\n",
              "}\n",
              "\n",
              "div.sk-parallel-item,\n",
              "div.sk-serial,\n",
              "div.sk-item {\n",
              "  /* draw centered vertical line to link estimators */\n",
              "  background-image: linear-gradient(var(--sklearn-color-text-on-default-background), var(--sklearn-color-text-on-default-background));\n",
              "  background-size: 2px 100%;\n",
              "  background-repeat: no-repeat;\n",
              "  background-position: center center;\n",
              "}\n",
              "\n",
              "/* Parallel-specific style estimator block */\n",
              "\n",
              "#sk-container-id-2 div.sk-parallel-item::after {\n",
              "  content: \"\";\n",
              "  width: 100%;\n",
              "  border-bottom: 2px solid var(--sklearn-color-text-on-default-background);\n",
              "  flex-grow: 1;\n",
              "}\n",
              "\n",
              "#sk-container-id-2 div.sk-parallel {\n",
              "  display: flex;\n",
              "  align-items: stretch;\n",
              "  justify-content: center;\n",
              "  background-color: var(--sklearn-color-background);\n",
              "  position: relative;\n",
              "}\n",
              "\n",
              "#sk-container-id-2 div.sk-parallel-item {\n",
              "  display: flex;\n",
              "  flex-direction: column;\n",
              "}\n",
              "\n",
              "#sk-container-id-2 div.sk-parallel-item:first-child::after {\n",
              "  align-self: flex-end;\n",
              "  width: 50%;\n",
              "}\n",
              "\n",
              "#sk-container-id-2 div.sk-parallel-item:last-child::after {\n",
              "  align-self: flex-start;\n",
              "  width: 50%;\n",
              "}\n",
              "\n",
              "#sk-container-id-2 div.sk-parallel-item:only-child::after {\n",
              "  width: 0;\n",
              "}\n",
              "\n",
              "/* Serial-specific style estimator block */\n",
              "\n",
              "#sk-container-id-2 div.sk-serial {\n",
              "  display: flex;\n",
              "  flex-direction: column;\n",
              "  align-items: center;\n",
              "  background-color: var(--sklearn-color-background);\n",
              "  padding-right: 1em;\n",
              "  padding-left: 1em;\n",
              "}\n",
              "\n",
              "\n",
              "/* Toggleable style: style used for estimator/Pipeline/ColumnTransformer box that is\n",
              "clickable and can be expanded/collapsed.\n",
              "- Pipeline and ColumnTransformer use this feature and define the default style\n",
              "- Estimators will overwrite some part of the style using the `sk-estimator` class\n",
              "*/\n",
              "\n",
              "/* Pipeline and ColumnTransformer style (default) */\n",
              "\n",
              "#sk-container-id-2 div.sk-toggleable {\n",
              "  /* Default theme specific background. It is overwritten whether we have a\n",
              "  specific estimator or a Pipeline/ColumnTransformer */\n",
              "  background-color: var(--sklearn-color-background);\n",
              "}\n",
              "\n",
              "/* Toggleable label */\n",
              "#sk-container-id-2 label.sk-toggleable__label {\n",
              "  cursor: pointer;\n",
              "  display: flex;\n",
              "  width: 100%;\n",
              "  margin-bottom: 0;\n",
              "  padding: 0.5em;\n",
              "  box-sizing: border-box;\n",
              "  text-align: center;\n",
              "  align-items: start;\n",
              "  justify-content: space-between;\n",
              "  gap: 0.5em;\n",
              "}\n",
              "\n",
              "#sk-container-id-2 label.sk-toggleable__label .caption {\n",
              "  font-size: 0.6rem;\n",
              "  font-weight: lighter;\n",
              "  color: var(--sklearn-color-text-muted);\n",
              "}\n",
              "\n",
              "#sk-container-id-2 label.sk-toggleable__label-arrow:before {\n",
              "  /* Arrow on the left of the label */\n",
              "  content: \"▸\";\n",
              "  float: left;\n",
              "  margin-right: 0.25em;\n",
              "  color: var(--sklearn-color-icon);\n",
              "}\n",
              "\n",
              "#sk-container-id-2 label.sk-toggleable__label-arrow:hover:before {\n",
              "  color: var(--sklearn-color-text);\n",
              "}\n",
              "\n",
              "/* Toggleable content - dropdown */\n",
              "\n",
              "#sk-container-id-2 div.sk-toggleable__content {\n",
              "  max-height: 0;\n",
              "  max-width: 0;\n",
              "  overflow: hidden;\n",
              "  text-align: left;\n",
              "  /* unfitted */\n",
              "  background-color: var(--sklearn-color-unfitted-level-0);\n",
              "}\n",
              "\n",
              "#sk-container-id-2 div.sk-toggleable__content.fitted {\n",
              "  /* fitted */\n",
              "  background-color: var(--sklearn-color-fitted-level-0);\n",
              "}\n",
              "\n",
              "#sk-container-id-2 div.sk-toggleable__content pre {\n",
              "  margin: 0.2em;\n",
              "  border-radius: 0.25em;\n",
              "  color: var(--sklearn-color-text);\n",
              "  /* unfitted */\n",
              "  background-color: var(--sklearn-color-unfitted-level-0);\n",
              "}\n",
              "\n",
              "#sk-container-id-2 div.sk-toggleable__content.fitted pre {\n",
              "  /* unfitted */\n",
              "  background-color: var(--sklearn-color-fitted-level-0);\n",
              "}\n",
              "\n",
              "#sk-container-id-2 input.sk-toggleable__control:checked~div.sk-toggleable__content {\n",
              "  /* Expand drop-down */\n",
              "  max-height: 200px;\n",
              "  max-width: 100%;\n",
              "  overflow: auto;\n",
              "}\n",
              "\n",
              "#sk-container-id-2 input.sk-toggleable__control:checked~label.sk-toggleable__label-arrow:before {\n",
              "  content: \"▾\";\n",
              "}\n",
              "\n",
              "/* Pipeline/ColumnTransformer-specific style */\n",
              "\n",
              "#sk-container-id-2 div.sk-label input.sk-toggleable__control:checked~label.sk-toggleable__label {\n",
              "  color: var(--sklearn-color-text);\n",
              "  background-color: var(--sklearn-color-unfitted-level-2);\n",
              "}\n",
              "\n",
              "#sk-container-id-2 div.sk-label.fitted input.sk-toggleable__control:checked~label.sk-toggleable__label {\n",
              "  background-color: var(--sklearn-color-fitted-level-2);\n",
              "}\n",
              "\n",
              "/* Estimator-specific style */\n",
              "\n",
              "/* Colorize estimator box */\n",
              "#sk-container-id-2 div.sk-estimator input.sk-toggleable__control:checked~label.sk-toggleable__label {\n",
              "  /* unfitted */\n",
              "  background-color: var(--sklearn-color-unfitted-level-2);\n",
              "}\n",
              "\n",
              "#sk-container-id-2 div.sk-estimator.fitted input.sk-toggleable__control:checked~label.sk-toggleable__label {\n",
              "  /* fitted */\n",
              "  background-color: var(--sklearn-color-fitted-level-2);\n",
              "}\n",
              "\n",
              "#sk-container-id-2 div.sk-label label.sk-toggleable__label,\n",
              "#sk-container-id-2 div.sk-label label {\n",
              "  /* The background is the default theme color */\n",
              "  color: var(--sklearn-color-text-on-default-background);\n",
              "}\n",
              "\n",
              "/* On hover, darken the color of the background */\n",
              "#sk-container-id-2 div.sk-label:hover label.sk-toggleable__label {\n",
              "  color: var(--sklearn-color-text);\n",
              "  background-color: var(--sklearn-color-unfitted-level-2);\n",
              "}\n",
              "\n",
              "/* Label box, darken color on hover, fitted */\n",
              "#sk-container-id-2 div.sk-label.fitted:hover label.sk-toggleable__label.fitted {\n",
              "  color: var(--sklearn-color-text);\n",
              "  background-color: var(--sklearn-color-fitted-level-2);\n",
              "}\n",
              "\n",
              "/* Estimator label */\n",
              "\n",
              "#sk-container-id-2 div.sk-label label {\n",
              "  font-family: monospace;\n",
              "  font-weight: bold;\n",
              "  display: inline-block;\n",
              "  line-height: 1.2em;\n",
              "}\n",
              "\n",
              "#sk-container-id-2 div.sk-label-container {\n",
              "  text-align: center;\n",
              "}\n",
              "\n",
              "/* Estimator-specific */\n",
              "#sk-container-id-2 div.sk-estimator {\n",
              "  font-family: monospace;\n",
              "  border: 1px dotted var(--sklearn-color-border-box);\n",
              "  border-radius: 0.25em;\n",
              "  box-sizing: border-box;\n",
              "  margin-bottom: 0.5em;\n",
              "  /* unfitted */\n",
              "  background-color: var(--sklearn-color-unfitted-level-0);\n",
              "}\n",
              "\n",
              "#sk-container-id-2 div.sk-estimator.fitted {\n",
              "  /* fitted */\n",
              "  background-color: var(--sklearn-color-fitted-level-0);\n",
              "}\n",
              "\n",
              "/* on hover */\n",
              "#sk-container-id-2 div.sk-estimator:hover {\n",
              "  /* unfitted */\n",
              "  background-color: var(--sklearn-color-unfitted-level-2);\n",
              "}\n",
              "\n",
              "#sk-container-id-2 div.sk-estimator.fitted:hover {\n",
              "  /* fitted */\n",
              "  background-color: var(--sklearn-color-fitted-level-2);\n",
              "}\n",
              "\n",
              "/* Specification for estimator info (e.g. \"i\" and \"?\") */\n",
              "\n",
              "/* Common style for \"i\" and \"?\" */\n",
              "\n",
              ".sk-estimator-doc-link,\n",
              "a:link.sk-estimator-doc-link,\n",
              "a:visited.sk-estimator-doc-link {\n",
              "  float: right;\n",
              "  font-size: smaller;\n",
              "  line-height: 1em;\n",
              "  font-family: monospace;\n",
              "  background-color: var(--sklearn-color-background);\n",
              "  border-radius: 1em;\n",
              "  height: 1em;\n",
              "  width: 1em;\n",
              "  text-decoration: none !important;\n",
              "  margin-left: 0.5em;\n",
              "  text-align: center;\n",
              "  /* unfitted */\n",
              "  border: var(--sklearn-color-unfitted-level-1) 1pt solid;\n",
              "  color: var(--sklearn-color-unfitted-level-1);\n",
              "}\n",
              "\n",
              ".sk-estimator-doc-link.fitted,\n",
              "a:link.sk-estimator-doc-link.fitted,\n",
              "a:visited.sk-estimator-doc-link.fitted {\n",
              "  /* fitted */\n",
              "  border: var(--sklearn-color-fitted-level-1) 1pt solid;\n",
              "  color: var(--sklearn-color-fitted-level-1);\n",
              "}\n",
              "\n",
              "/* On hover */\n",
              "div.sk-estimator:hover .sk-estimator-doc-link:hover,\n",
              ".sk-estimator-doc-link:hover,\n",
              "div.sk-label-container:hover .sk-estimator-doc-link:hover,\n",
              ".sk-estimator-doc-link:hover {\n",
              "  /* unfitted */\n",
              "  background-color: var(--sklearn-color-unfitted-level-3);\n",
              "  color: var(--sklearn-color-background);\n",
              "  text-decoration: none;\n",
              "}\n",
              "\n",
              "div.sk-estimator.fitted:hover .sk-estimator-doc-link.fitted:hover,\n",
              ".sk-estimator-doc-link.fitted:hover,\n",
              "div.sk-label-container:hover .sk-estimator-doc-link.fitted:hover,\n",
              ".sk-estimator-doc-link.fitted:hover {\n",
              "  /* fitted */\n",
              "  background-color: var(--sklearn-color-fitted-level-3);\n",
              "  color: var(--sklearn-color-background);\n",
              "  text-decoration: none;\n",
              "}\n",
              "\n",
              "/* Span, style for the box shown on hovering the info icon */\n",
              ".sk-estimator-doc-link span {\n",
              "  display: none;\n",
              "  z-index: 9999;\n",
              "  position: relative;\n",
              "  font-weight: normal;\n",
              "  right: .2ex;\n",
              "  padding: .5ex;\n",
              "  margin: .5ex;\n",
              "  width: min-content;\n",
              "  min-width: 20ex;\n",
              "  max-width: 50ex;\n",
              "  color: var(--sklearn-color-text);\n",
              "  box-shadow: 2pt 2pt 4pt #999;\n",
              "  /* unfitted */\n",
              "  background: var(--sklearn-color-unfitted-level-0);\n",
              "  border: .5pt solid var(--sklearn-color-unfitted-level-3);\n",
              "}\n",
              "\n",
              ".sk-estimator-doc-link.fitted span {\n",
              "  /* fitted */\n",
              "  background: var(--sklearn-color-fitted-level-0);\n",
              "  border: var(--sklearn-color-fitted-level-3);\n",
              "}\n",
              "\n",
              ".sk-estimator-doc-link:hover span {\n",
              "  display: block;\n",
              "}\n",
              "\n",
              "/* \"?\"-specific style due to the `<a>` HTML tag */\n",
              "\n",
              "#sk-container-id-2 a.estimator_doc_link {\n",
              "  float: right;\n",
              "  font-size: 1rem;\n",
              "  line-height: 1em;\n",
              "  font-family: monospace;\n",
              "  background-color: var(--sklearn-color-background);\n",
              "  border-radius: 1rem;\n",
              "  height: 1rem;\n",
              "  width: 1rem;\n",
              "  text-decoration: none;\n",
              "  /* unfitted */\n",
              "  color: var(--sklearn-color-unfitted-level-1);\n",
              "  border: var(--sklearn-color-unfitted-level-1) 1pt solid;\n",
              "}\n",
              "\n",
              "#sk-container-id-2 a.estimator_doc_link.fitted {\n",
              "  /* fitted */\n",
              "  border: var(--sklearn-color-fitted-level-1) 1pt solid;\n",
              "  color: var(--sklearn-color-fitted-level-1);\n",
              "}\n",
              "\n",
              "/* On hover */\n",
              "#sk-container-id-2 a.estimator_doc_link:hover {\n",
              "  /* unfitted */\n",
              "  background-color: var(--sklearn-color-unfitted-level-3);\n",
              "  color: var(--sklearn-color-background);\n",
              "  text-decoration: none;\n",
              "}\n",
              "\n",
              "#sk-container-id-2 a.estimator_doc_link.fitted:hover {\n",
              "  /* fitted */\n",
              "  background-color: var(--sklearn-color-fitted-level-3);\n",
              "}\n",
              "</style><div id=\"sk-container-id-2\" class=\"sk-top-container\"><div class=\"sk-text-repr-fallback\"><pre>LogisticRegression(max_iter=5000)</pre><b>In a Jupyter environment, please rerun this cell to show the HTML representation or trust the notebook. <br />On GitHub, the HTML representation is unable to render, please try loading this page with nbviewer.org.</b></div><div class=\"sk-container\" hidden><div class=\"sk-item\"><div class=\"sk-estimator fitted sk-toggleable\"><input class=\"sk-toggleable__control sk-hidden--visually\" id=\"sk-estimator-id-2\" type=\"checkbox\" checked><label for=\"sk-estimator-id-2\" class=\"sk-toggleable__label fitted sk-toggleable__label-arrow\"><div><div>LogisticRegression</div></div><div><a class=\"sk-estimator-doc-link fitted\" rel=\"noreferrer\" target=\"_blank\" href=\"https://scikit-learn.org/1.6/modules/generated/sklearn.linear_model.LogisticRegression.html\">?<span>Documentation for LogisticRegression</span></a><span class=\"sk-estimator-doc-link fitted\">i<span>Fitted</span></span></div></label><div class=\"sk-toggleable__content fitted\"><pre>LogisticRegression(max_iter=5000)</pre></div> </div></div></div></div>"
            ]
          },
          "metadata": {},
          "execution_count": 16
        }
      ],
      "source": [
        "#2.7 Train logistic regression model\n",
        "model = LogisticRegression(max_iter=5000)\n",
        "model.fit(X_train, y_train)"
      ]
    },
    {
      "cell_type": "code",
      "execution_count": 18,
      "id": "6279330f",
      "metadata": {
        "execution": {
          "iopub.execute_input": "2025-09-17T08:50:37.284122Z",
          "iopub.status.busy": "2025-09-17T08:50:37.283688Z",
          "iopub.status.idle": "2025-09-17T08:50:37.292723Z",
          "shell.execute_reply": "2025-09-17T08:50:37.291844Z"
        },
        "papermill": {
          "duration": 0.024309,
          "end_time": "2025-09-17T08:50:37.294693",
          "exception": false,
          "start_time": "2025-09-17T08:50:37.270384",
          "status": "completed"
        },
        "tags": [],
        "id": "6279330f"
      },
      "outputs": [],
      "source": [
        "#2.8 Predict probabilities for ROC curve\n",
        "y_probs = model.predict_proba(X_test)[:, 1]"
      ]
    },
    {
      "cell_type": "code",
      "execution_count": 19,
      "id": "41283100",
      "metadata": {
        "execution": {
          "iopub.execute_input": "2025-09-17T08:50:37.319916Z",
          "iopub.status.busy": "2025-09-17T08:50:37.319534Z",
          "iopub.status.idle": "2025-09-17T08:50:37.328433Z",
          "shell.execute_reply": "2025-09-17T08:50:37.327702Z"
        },
        "papermill": {
          "duration": 0.024345,
          "end_time": "2025-09-17T08:50:37.330505",
          "exception": false,
          "start_time": "2025-09-17T08:50:37.306160",
          "status": "completed"
        },
        "tags": [],
        "id": "41283100"
      },
      "outputs": [],
      "source": [
        "#2.9 Compute ROC curve and AUC\n",
        "fpr, tpr, thresholds = roc_curve(y_test, y_probs)\n",
        "roc_auc = auc(fpr, tpr)"
      ]
    },
    {
      "cell_type": "code",
      "execution_count": 20,
      "id": "af9f89db",
      "metadata": {
        "execution": {
          "iopub.execute_input": "2025-09-17T08:50:37.355718Z",
          "iopub.status.busy": "2025-09-17T08:50:37.355378Z",
          "iopub.status.idle": "2025-09-17T08:50:37.609753Z",
          "shell.execute_reply": "2025-09-17T08:50:37.608611Z"
        },
        "papermill": {
          "duration": 0.269285,
          "end_time": "2025-09-17T08:50:37.611500",
          "exception": false,
          "start_time": "2025-09-17T08:50:37.342215",
          "status": "completed"
        },
        "tags": [],
        "id": "af9f89db",
        "outputId": "9a39d437-2788-4d73-93a3-4b59488db580",
        "colab": {
          "base_uri": "https://localhost:8080/",
          "height": 607
        }
      },
      "outputs": [
        {
          "output_type": "display_data",
          "data": {
            "text/plain": [
              "<Figure size 800x600 with 1 Axes>"
            ],
            "image/png": "[encoded data removed]"
          },
          "metadata": {}
        }
      ],
      "source": [
        "#2.10 Plot ROC curve\n",
        "plt.figure(figsize=(8, 6))\n",
        "plt.plot(fpr, tpr, color='blue', label=f'ROC Curve (AUC = {roc_auc:.2f})')\n",
        "plt.plot([0, 1], [0, 1], color='red', linestyle='--')\n",
        "plt.title(\"ROC Curve for Logistic Regression\")\n",
        "plt.xlabel(\"False Positive Rate\")\n",
        "plt.ylabel(\"True Positive Rate\")\n",
        "plt.legend(loc=\"lower right\")\n",
        "plt.grid(True)\n",
        "plt.tight_layout()\n",
        "plt.show()"
      ]
    },
    {
      "cell_type": "code",
      "execution_count": 21,
      "id": "f2a9d400",
      "metadata": {
        "execution": {
          "iopub.execute_input": "2025-09-17T08:50:37.628347Z",
          "iopub.status.busy": "2025-09-17T08:50:37.627632Z",
          "iopub.status.idle": "2025-09-17T08:50:37.632984Z",
          "shell.execute_reply": "2025-09-17T08:50:37.631730Z"
        },
        "papermill": {
          "duration": 0.015478,
          "end_time": "2025-09-17T08:50:37.634687",
          "exception": false,
          "start_time": "2025-09-17T08:50:37.619209",
          "status": "completed"
        },
        "tags": [],
        "id": "f2a9d400"
      },
      "outputs": [],
      "source": [
        "#3.1 Importing Libraries\n",
        "import pandas as pd\n",
        "import numpy as np\n",
        "import matplotlib.pyplot as plt\n",
        "from sklearn.linear_model import LinearRegression\n",
        "from sklearn.preprocessing import PolynomialFeatures\n",
        "from sklearn.metrics import mean_squared_error, r2_score"
      ]
    },
    {
      "cell_type": "code",
      "execution_count": 22,
      "id": "4dcb9218",
      "metadata": {
        "execution": {
          "iopub.execute_input": "2025-09-17T08:50:37.650917Z",
          "iopub.status.busy": "2025-09-17T08:50:37.650555Z",
          "iopub.status.idle": "2025-09-17T08:50:37.675314Z",
          "shell.execute_reply": "2025-09-17T08:50:37.674030Z"
        },
        "papermill": {
          "duration": 0.035067,
          "end_time": "2025-09-17T08:50:37.677359",
          "exception": false,
          "start_time": "2025-09-17T08:50:37.642292",
          "status": "completed"
        },
        "tags": [],
        "id": "4dcb9218"
      },
      "outputs": [],
      "source": [
        "#3.2 Load the dataset\n",
        "df = pd.read_csv(\"/content/drive/MyDrive/Colab Notebooks/PAMPL/Task3_Data_TimeSeriesRegression (1).csv\")"
      ]
    },
    {
      "cell_type": "code",
      "execution_count": 23,
      "id": "7ccd97d4",
      "metadata": {
        "execution": {
          "iopub.execute_input": "2025-09-17T08:50:37.694380Z",
          "iopub.status.busy": "2025-09-17T08:50:37.693862Z",
          "iopub.status.idle": "2025-09-17T08:50:37.698760Z",
          "shell.execute_reply": "2025-09-17T08:50:37.697858Z"
        },
        "papermill": {
          "duration": 0.014968,
          "end_time": "2025-09-17T08:50:37.700468",
          "exception": false,
          "start_time": "2025-09-17T08:50:37.685500",
          "status": "completed"
        },
        "tags": [],
        "id": "7ccd97d4"
      },
      "outputs": [],
      "source": [
        "#3.3 Rename for clarity\n",
        "df.columns = ['t', 'f_t']"
      ]
    },
    {
      "cell_type": "code",
      "execution_count": 24,
      "id": "dbec9ef6",
      "metadata": {
        "execution": {
          "iopub.execute_input": "2025-09-17T08:50:37.717488Z",
          "iopub.status.busy": "2025-09-17T08:50:37.717154Z",
          "iopub.status.idle": "2025-09-17T08:50:37.723675Z",
          "shell.execute_reply": "2025-09-17T08:50:37.722237Z"
        },
        "papermill": {
          "duration": 0.017696,
          "end_time": "2025-09-17T08:50:37.725970",
          "exception": false,
          "start_time": "2025-09-17T08:50:37.708274",
          "status": "completed"
        },
        "tags": [],
        "id": "dbec9ef6"
      },
      "outputs": [],
      "source": [
        "#3.4 Prepare data for regression\n",
        "X = df[['t']].values  # Independent variable (reshape as 2D)\n",
        "y = df['f_t'].values  # Dependent variable"
      ]
    },
    {
      "cell_type": "code",
      "execution_count": 25,
      "id": "eb54dd77",
      "metadata": {
        "execution": {
          "iopub.execute_input": "2025-09-17T08:50:37.742193Z",
          "iopub.status.busy": "2025-09-17T08:50:37.741843Z",
          "iopub.status.idle": "2025-09-17T08:50:37.998965Z",
          "shell.execute_reply": "2025-09-17T08:50:37.997853Z"
        },
        "papermill": {
          "duration": 0.267247,
          "end_time": "2025-09-17T08:50:38.000750",
          "exception": false,
          "start_time": "2025-09-17T08:50:37.733503",
          "status": "completed"
        },
        "tags": [],
        "id": "eb54dd77",
        "outputId": "824d5f02-33c5-4c82-f0db-6cd5d776e8a1",
        "colab": {
          "base_uri": "https://localhost:8080/",
          "height": 507
        }
      },
      "outputs": [
        {
          "output_type": "display_data",
          "data": {
            "text/plain": [
              "<Figure size 800x500 with 1 Axes>"
            ],
            "image/png": "[encoded data removed]"
          },
          "metadata": {}
        }
      ],
      "source": [
        "#3.5 Visualize original data\n",
        "plt.figure(figsize=(8, 5))\n",
        "plt.scatter(X, y, color='darkblue', s=10, label='Original Data')\n",
        "plt.title(\"Observed Time-Series Data\")\n",
        "plt.xlabel(\"t\")\n",
        "plt.ylabel(\"f(t)\")\n",
        "plt.grid(True)\n",
        "plt.legend()\n",
        "plt.tight_layout()\n",
        "plt.show()"
      ]
    },
    {
      "cell_type": "code",
      "execution_count": 26,
      "id": "6b6a9a8f",
      "metadata": {
        "execution": {
          "iopub.execute_input": "2025-09-17T08:50:38.019313Z",
          "iopub.status.busy": "2025-09-17T08:50:38.018965Z",
          "iopub.status.idle": "2025-09-17T08:50:38.024406Z",
          "shell.execute_reply": "2025-09-17T08:50:38.023454Z"
        },
        "papermill": {
          "duration": 0.016947,
          "end_time": "2025-09-17T08:50:38.026271",
          "exception": false,
          "start_time": "2025-09-17T08:50:38.009324",
          "status": "completed"
        },
        "tags": [],
        "id": "6b6a9a8f"
      },
      "outputs": [],
      "source": [
        "#3.6 Polynomial Regression (degree 4)\n",
        "poly = PolynomialFeatures(degree=4)\n",
        "X_poly = poly.fit_transform(X)"
      ]
    },
    {
      "cell_type": "code",
      "execution_count": 27,
      "id": "0e2c3136",
      "metadata": {
        "execution": {
          "iopub.execute_input": "2025-09-17T08:50:38.046095Z",
          "iopub.status.busy": "2025-09-17T08:50:38.044623Z",
          "iopub.status.idle": "2025-09-17T08:50:38.076831Z",
          "shell.execute_reply": "2025-09-17T08:50:38.075883Z"
        },
        "papermill": {
          "duration": 0.04362,
          "end_time": "2025-09-17T08:50:38.078602",
          "exception": false,
          "start_time": "2025-09-17T08:50:38.034982",
          "status": "completed"
        },
        "tags": [],
        "id": "0e2c3136"
      },
      "outputs": [],
      "source": [
        "model = LinearRegression()\n",
        "model.fit(X_poly, y)\n",
        "y_pred = model.predict(X_poly)"
      ]
    },
    {
      "cell_type": "code",
      "execution_count": 28,
      "id": "1807349b",
      "metadata": {
        "execution": {
          "iopub.execute_input": "2025-09-17T08:50:38.098651Z",
          "iopub.status.busy": "2025-09-17T08:50:38.097599Z",
          "iopub.status.idle": "2025-09-17T08:50:38.104663Z",
          "shell.execute_reply": "2025-09-17T08:50:38.103657Z"
        },
        "papermill": {
          "duration": 0.018638,
          "end_time": "2025-09-17T08:50:38.106646",
          "exception": false,
          "start_time": "2025-09-17T08:50:38.088008",
          "status": "completed"
        },
        "tags": [],
        "id": "1807349b"
      },
      "outputs": [],
      "source": [
        "# Step 6: Model Evaluation\n",
        "rmse = np.sqrt(mean_squared_error(y, y_pred))\n",
        "r2 = r2_score(y, y_pred)"
      ]
    },
    {
      "cell_type": "code",
      "execution_count": 29,
      "id": "5bb02355",
      "metadata": {
        "execution": {
          "iopub.execute_input": "2025-09-17T08:50:38.125340Z",
          "iopub.status.busy": "2025-09-17T08:50:38.125040Z",
          "iopub.status.idle": "2025-09-17T08:50:38.130304Z",
          "shell.execute_reply": "2025-09-17T08:50:38.129080Z"
        },
        "papermill": {
          "duration": 0.016498,
          "end_time": "2025-09-17T08:50:38.132017",
          "exception": false,
          "start_time": "2025-09-17T08:50:38.115519",
          "status": "completed"
        },
        "tags": [],
        "id": "5bb02355",
        "outputId": "3d8729e3-8d6c-4e80-9504-5c7432f5a984",
        "colab": {
          "base_uri": "https://localhost:8080/"
        }
      },
      "outputs": [
        {
          "output_type": "stream",
          "name": "stdout",
          "text": [
            "Root Mean Squared Error (RMSE): 0.00\n",
            "R-squared (R²): 1.0000\n"
          ]
        }
      ],
      "source": [
        "print(f\"Root Mean Squared Error (RMSE): {rmse:.2f}\")\n",
        "print(f\"R-squared (R²): {r2:.4f}\")"
      ]
    },
    {
      "cell_type": "code",
      "execution_count": 30,
      "id": "82a23ca6",
      "metadata": {
        "execution": {
          "iopub.execute_input": "2025-09-17T08:50:38.150845Z",
          "iopub.status.busy": "2025-09-17T08:50:38.150489Z",
          "iopub.status.idle": "2025-09-17T08:50:38.472821Z",
          "shell.execute_reply": "2025-09-17T08:50:38.471800Z"
        },
        "papermill": {
          "duration": 0.334153,
          "end_time": "2025-09-17T08:50:38.474819",
          "exception": false,
          "start_time": "2025-09-17T08:50:38.140666",
          "status": "completed"
        },
        "tags": [],
        "id": "82a23ca6",
        "outputId": "cd03bda3-dbc6-4cca-e861-29ae9262b1a2",
        "colab": {
          "base_uri": "https://localhost:8080/",
          "height": 507
        }
      },
      "outputs": [
        {
          "output_type": "display_data",
          "data": {
            "text/plain": [
              "<Figure size 800x500 with 1 Axes>"
            ],
            "image/png": "[encoded data removed]"
          },
          "metadata": {}
        }
      ],
      "source": [
        "# Step 7: Plot regression curve\n",
        "plt.figure(figsize=(8, 5))\n",
        "plt.scatter(X, y, color='grey', alpha=0.4, label='Actual f(t)')\n",
        "plt.plot(X, y_pred, color='red', linewidth=2, label='Polynomial Regression (Degree 4)')\n",
        "plt.title(\"Time-Series Regression Fit\")\n",
        "plt.xlabel(\"t\")\n",
        "plt.ylabel(\"f(t)\")\n",
        "plt.grid(True)\n",
        "plt.legend()\n",
        "plt.tight_layout()\n",
        "plt.show()"
      ]
    },
    {
      "cell_type": "code",
      "execution_count": 31,
      "id": "da493beb",
      "metadata": {
        "execution": {
          "iopub.execute_input": "2025-09-17T08:50:38.496934Z",
          "iopub.status.busy": "2025-09-17T08:50:38.496549Z",
          "iopub.status.idle": "2025-09-17T08:50:38.713201Z",
          "shell.execute_reply": "2025-09-17T08:50:38.712148Z"
        },
        "papermill": {
          "duration": 0.229544,
          "end_time": "2025-09-17T08:50:38.715122",
          "exception": false,
          "start_time": "2025-09-17T08:50:38.485578",
          "status": "completed"
        },
        "tags": [],
        "id": "da493beb",
        "outputId": "fa0ee82b-88a5-43dc-8ce9-b19bd42042e4",
        "colab": {
          "base_uri": "https://localhost:8080/",
          "height": 407
        }
      },
      "outputs": [
        {
          "output_type": "display_data",
          "data": {
            "text/plain": [
              "<Figure size 800x400 with 1 Axes>"
            ],
            "image/png": "[encoded data removed]"
          },
          "metadata": {}
        }
      ],
      "source": [
        "# Step 8: Residual Plot\n",
        "residuals = y - y_pred\n",
        "plt.figure(figsize=(8, 4))\n",
        "plt.scatter(X, residuals, color='purple', s=10)\n",
        "plt.axhline(0, linestyle='--', color='black')\n",
        "plt.title(\"Residuals Plot\")\n",
        "plt.xlabel(\"t\")\n",
        "plt.ylabel(\"Residuals\")\n",
        "plt.grid(True)\n",
        "plt.tight_layout()\n",
        "plt.show()"
      ]
    }
  ],
  "metadata": {
    "kaggle": {
      "accelerator": "none",
      "dataSources": [
        {
          "datasetId": 8282314,
          "sourceId": 13077236,
          "sourceType": "datasetVersion"
        },
        {
          "datasetId": 8287252,
          "sourceId": 13084447,
          "sourceType": "datasetVersion"
        }
      ],
      "dockerImageVersionId": 31089,
      "isGpuEnabled": false,
      "isInternetEnabled": true,
      "language": "python",
      "sourceType": "notebook"
    },
    "kernelspec": {
      "display_name": "Python 3",
      "name": "python3"
    },
    "language_info": {
      "codemirror_mode": {
        "name": "ipython",
        "version": 3
      },
      "file_extension": ".py",
      "mimetype": "text/x-python",
      "name": "python",
      "nbconvert_exporter": "python",
      "pygments_lexer": "ipython3",
      "version": "3.11.13"
    },
    "papermill": {
      "default_parameters": {},
      "duration": 25.684922,
      "end_time": "2025-09-17T08:50:39.548548",
      "environment_variables": {},
      "exception": null,
      "input_path": "__notebook__.ipynb",
      "output_path": "__notebook__.ipynb",
      "parameters": {},
      "start_time": "2025-09-17T08:50:13.863626",
      "version": "2.6.0"
    },
    "colab": {
      "provenance": [],
      "gpuType": "T4"
    },
    "accelerator": "GPU"
  },
  "nbformat": 4,
  "nbformat_minor": 5
}